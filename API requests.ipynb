{
 "cells": [
  {
   "cell_type": "code",
   "execution_count": 1,
   "id": "b36ca07f-fbb1-4802-aaf4-84b2712a7eae",
   "metadata": {},
   "outputs": [],
   "source": [
    "import requests"
   ]
  },
  {
   "cell_type": "code",
   "execution_count": 23,
   "id": "284681d3-2fed-4ff9-a566-ee34cc79001f",
   "metadata": {},
   "outputs": [
    {
     "name": "stdout",
     "output_type": "stream",
     "text": [
      "<Response [200]>\n",
      "25\n",
      "pikachu\n",
      "4\n",
      "60\n"
     ]
    }
   ],
   "source": [
    "base_url=\"https://pokeapi.co/api/v2/\"\n",
    "def get_api_request(name):\n",
    "    url=f\"{base_url}/pokemon/{name}\"\n",
    "    response=requests.get(url)\n",
    "    print(response)\n",
    "    if response.status_code==200:\n",
    "      data=response.json()\n",
    "      return data\n",
    "    else:\n",
    "        print(\"Failed to Retrieve Data!\")\n",
    "api_name=\"pikachu\"\n",
    "info=get_api_request(api_name)\n",
    "if info:\n",
    "    print(f\"{info[\"id\"]}\")\n",
    "    print(f\"{info[\"name\"]}\")\n",
    "    print(f\"{info[\"height\"]}\")\n",
    "    print(f\"{info[\"weight\"]}\")"
   ]
  },
  {
   "cell_type": "code",
   "execution_count": null,
   "id": "c1968378-6e04-4df5-82f7-213984de6eda",
   "metadata": {},
   "outputs": [],
   "source": []
  }
 ],
 "metadata": {
  "kernelspec": {
   "display_name": "Python 3 (ipykernel)",
   "language": "python",
   "name": "python3"
  },
  "language_info": {
   "codemirror_mode": {
    "name": "ipython",
    "version": 3
   },
   "file_extension": ".py",
   "mimetype": "text/x-python",
   "name": "python",
   "nbconvert_exporter": "python",
   "pygments_lexer": "ipython3",
   "version": "3.12.4"
  }
 },
 "nbformat": 4,
 "nbformat_minor": 5
}
