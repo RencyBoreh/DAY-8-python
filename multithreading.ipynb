{
 "cells": [
  {
   "cell_type": "code",
   "execution_count": 13,
   "id": "19f674c8-d7c0-44d9-8771-a7148ff85f3e",
   "metadata": {},
   "outputs": [
    {
     "ename": "AssertionError",
     "evalue": "group argument must be None for now",
     "output_type": "error",
     "traceback": [
      "\u001b[1;31m---------------------------------------------------------------------------\u001b[0m",
      "\u001b[1;31mAssertionError\u001b[0m                            Traceback (most recent call last)",
      "Cell \u001b[1;32mIn[13], line 18\u001b[0m\n\u001b[0;32m     16\u001b[0m     time\u001b[38;5;241m.\u001b[39msleep(\u001b[38;5;241m11\u001b[39m)\n\u001b[0;32m     17\u001b[0m     \u001b[38;5;28mprint\u001b[39m(\u001b[38;5;124m\"\u001b[39m\u001b[38;5;124mYou\u001b[39m\u001b[38;5;124m'\u001b[39m\u001b[38;5;124mve Finished Your Assignment\u001b[39m\u001b[38;5;124m\"\u001b[39m)\n\u001b[1;32m---> 18\u001b[0m task1\u001b[38;5;241m=\u001b[39mthreading\u001b[38;5;241m.\u001b[39mThread(walk_dog)\n\u001b[0;32m     19\u001b[0m task1\u001b[38;5;241m.\u001b[39mstart()\n\u001b[0;32m     20\u001b[0m task2\u001b[38;5;241m=\u001b[39mthreading\u001b[38;5;241m.\u001b[39mThread(take_trash)\n",
      "File \u001b[1;32m~\\anaconda3\\Lib\\threading.py:905\u001b[0m, in \u001b[0;36mThread.__init__\u001b[1;34m(self, group, target, name, args, kwargs, daemon)\u001b[0m\n\u001b[0;32m    882\u001b[0m \u001b[38;5;28;01mdef\u001b[39;00m \u001b[38;5;21m__init__\u001b[39m(\u001b[38;5;28mself\u001b[39m, group\u001b[38;5;241m=\u001b[39m\u001b[38;5;28;01mNone\u001b[39;00m, target\u001b[38;5;241m=\u001b[39m\u001b[38;5;28;01mNone\u001b[39;00m, name\u001b[38;5;241m=\u001b[39m\u001b[38;5;28;01mNone\u001b[39;00m,\n\u001b[0;32m    883\u001b[0m              args\u001b[38;5;241m=\u001b[39m(), kwargs\u001b[38;5;241m=\u001b[39m\u001b[38;5;28;01mNone\u001b[39;00m, \u001b[38;5;241m*\u001b[39m, daemon\u001b[38;5;241m=\u001b[39m\u001b[38;5;28;01mNone\u001b[39;00m):\n\u001b[0;32m    884\u001b[0m \u001b[38;5;250m    \u001b[39m\u001b[38;5;124;03m\"\"\"This constructor should always be called with keyword arguments. Arguments are:\u001b[39;00m\n\u001b[0;32m    885\u001b[0m \n\u001b[0;32m    886\u001b[0m \u001b[38;5;124;03m    *group* should be None; reserved for future extension when a ThreadGroup\u001b[39;00m\n\u001b[1;32m   (...)\u001b[0m\n\u001b[0;32m    903\u001b[0m \n\u001b[0;32m    904\u001b[0m \u001b[38;5;124;03m    \"\"\"\u001b[39;00m\n\u001b[1;32m--> 905\u001b[0m     \u001b[38;5;28;01massert\u001b[39;00m group \u001b[38;5;129;01mis\u001b[39;00m \u001b[38;5;28;01mNone\u001b[39;00m, \u001b[38;5;124m\"\u001b[39m\u001b[38;5;124mgroup argument must be None for now\u001b[39m\u001b[38;5;124m\"\u001b[39m\n\u001b[0;32m    906\u001b[0m     \u001b[38;5;28;01mif\u001b[39;00m kwargs \u001b[38;5;129;01mis\u001b[39;00m \u001b[38;5;28;01mNone\u001b[39;00m:\n\u001b[0;32m    907\u001b[0m         kwargs \u001b[38;5;241m=\u001b[39m {}\n",
      "\u001b[1;31mAssertionError\u001b[0m: group argument must be None for now"
     ]
    }
   ],
   "source": [
    "#multithreading is used to perfom multiple tasks concurrently.\n",
    "#Good for I/O bound tasks like reading files or fetching data from API's.\n",
    "#threading.Thread(target=my_function)\n",
    "import threading\n",
    "import time\n",
    "def walk_dog():\n",
    "    time.sleep(10)\n",
    "    print(\"You Finish Walkin the Dog\")\n",
    "def take_trash():\n",
    "    time.sleep(5)\n",
    "    print(\"You Finished taking Trash\")\n",
    "def go_school():\n",
    "    time.sleep(15)\n",
    "    print(\"You've Reached School\")\n",
    "def do_assignment():\n",
    "    time.sleep(11)\n",
    "    print(\"You've Finished Your Assignment\")\n",
    "task1=threading.Thread(walk_dog)\n",
    "task1.start()\n",
    "task2=threading.Thread(take_trash)\n",
    "task2.start()\n",
    "task3=threading.Thread(go_school)\n",
    "task3.start()\n",
    "task4=threading.Thread(do_assignment)\n",
    "task4.start()\n",
    "task1.join()\n",
    "task2.join()\n",
    "task3.join()\n",
    "task4.join()"
   ]
  },
  {
   "cell_type": "code",
   "execution_count": null,
   "id": "e6402c77-72f0-4fa4-8405-bd7f8c58ab92",
   "metadata": {},
   "outputs": [],
   "source": []
  }
 ],
 "metadata": {
  "kernelspec": {
   "display_name": "Python 3 (ipykernel)",
   "language": "python",
   "name": "python3"
  },
  "language_info": {
   "codemirror_mode": {
    "name": "ipython",
    "version": 3
   },
   "file_extension": ".py",
   "mimetype": "text/x-python",
   "name": "python",
   "nbconvert_exporter": "python",
   "pygments_lexer": "ipython3",
   "version": "3.12.4"
  }
 },
 "nbformat": 4,
 "nbformat_minor": 5
}
